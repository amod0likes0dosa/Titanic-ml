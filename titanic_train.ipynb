{
 "cells": [
  {
   "cell_type": "markdown",
   "id": "063df399",
   "metadata": {},
   "source": [
    "# Titanic Survival Prediction (No-CLI Notebook)\n",
    "\n",
    "Run all cells top-to-bottom. Make sure `data/train.csv` and `data/test.csv` are present."
   ]
  },
  {
   "cell_type": "code",
   "execution_count": null,
   "id": "50314814",
   "metadata": {},
   "outputs": [],
   "source": [
    "import joblib, pandas as pd, numpy as np\n",
    "from pathlib import Path\n",
    "\n",
    "from sklearn.model_selection import StratifiedKFold, cross_val_score, GridSearchCV\n",
    "from sklearn.compose import ColumnTransformer\n",
    "from sklearn.pipeline import Pipeline\n",
    "from sklearn.preprocessing import OneHotEncoder, StandardScaler\n",
    "from sklearn.linear_model import LogisticRegression\n",
    "from sklearn.metrics import accuracy_score, classification_report, confusion_matrix\n",
    "from sklearn.ensemble import RandomForestClassifier\n",
    "\n",
    "DATA_DIR = Path(\"..\") / \"data\"\n",
    "MODELS_DIR = Path(\"..\") / \"models\"\n",
    "MODELS_DIR.mkdir(exist_ok=True)\n",
    "print(\"Project paths:\", DATA_DIR, MODELS_DIR)"
   ]
  },
  {
   "cell_type": "code",
   "execution_count": null,
   "id": "b6a555f5",
   "metadata": {},
   "outputs": [],
   "source": [
    "import pandas as pd\n",
    "\n",
    "def feature_engineer(df: pd.DataFrame) -> pd.DataFrame:\n",
    "    df[\"Title\"] = df[\"Name\"].str.extract(r\",\\s*([^\\.]*)\\s*\\.\")\n",
    "    map_title = {\n",
    "        \"Mlle\": \"Miss\", \"Ms\": \"Miss\", \"Mme\": \"Mrs\",\n",
    "        \"Lady\": \"Royalty\", \"Countess\": \"Royalty\", \"Dona\": \"Royalty\",\n",
    "        \"Sir\": \"Royalty\", \"Don\": \"Royalty\", \"Jonkheer\": \"Royalty\",\n",
    "        \"Capt\": \"Officer\", \"Col\": \"Officer\", \"Major\": \"Officer\", \"Dr\": \"Officer\", \"Rev\": \"Officer\"\n",
    "    }\n",
    "    df[\"Title\"] = df[\"Title\"].replace(map_title)\n",
    "\n",
    "    df[\"FamilySize\"] = df[\"SibSp\"] + df[\"Parch\"] + 1\n",
    "    df[\"IsAlone\"] = (df[\"FamilySize\"] == 1).astype(int)\n",
    "    df[\"TicketLen\"] = df[\"Ticket\"].astype(str).str.len()\n",
    "\n",
    "    df[\"Embarked\"] = df[\"Embarked\"].fillna(df[\"Embarked\"].mode()[0])\n",
    "    df[\"Fare\"] = df.groupby(\"Pclass\")[\"Fare\"].transform(lambda s: s.fillna(s.median()))\n",
    "    df[\"Age\"] = df.groupby([\"Title\", \"Pclass\"])[\"Age\"].transform(lambda s: s.fillna(s.median()))\n",
    "    df[\"Age\"] = df[\"Age\"].fillna(df[\"Age\"].median())\n",
    "\n",
    "    return df.drop(columns=[\"Cabin\", \"Name\", \"Ticket\"])\n",
    "\n",
    "def make_preprocessor():\n",
    "    numeric_features = [\"Age\", \"Fare\", \"FamilySize\", \"TicketLen\", \"Parch\", \"SibSp\"]\n",
    "    categorical_features = [\"Sex\", \"Embarked\", \"Pclass\", \"Title\", \"IsAlone\"]\n",
    "\n",
    "    numeric_transformer = Pipeline(steps=[(\"scaler\", StandardScaler())])\n",
    "    categorical_transformer = OneHotEncoder(handle_unknown=\"ignore\")\n",
    "\n",
    "    preprocessor = ColumnTransformer(\n",
    "        transformers=[\n",
    "            (\"num\", numeric_transformer, numeric_features),\n",
    "            (\"cat\", categorical_transformer, categorical_features),\n",
    "        ]\n",
    "    )\n",
    "    return preprocessor"
   ]
  },
  {
   "cell_type": "code",
   "execution_count": null,
   "id": "f1683d3a",
   "metadata": {},
   "outputs": [],
   "source": [
    "import pandas as pd\n",
    "\n",
    "train = pd.read_csv(DATA_DIR / \"train.csv\")\n",
    "test = pd.read_csv(DATA_DIR / \"test.csv\")\n",
    "train = feature_engineer(train)\n",
    "test = feature_engineer(test)\n",
    "y = train[\"Survived\"]\n",
    "X = train.drop(columns=[\"Survived\"])\n",
    "print(\"Train shape:\", X.shape, \"Test shape:\", test.shape)\n",
    "train.head()"
   ]
  },
  {
   "cell_type": "code",
   "execution_count": null,
   "id": "165b7533",
   "metadata": {},
   "outputs": [],
   "source": [
    "pre = make_preprocessor()\n",
    "pipe = Pipeline(steps=[(\"pre\", pre), (\"model\", LogisticRegression(max_iter=1000))])\n",
    "\n",
    "cv = StratifiedKFold(n_splits=5, shuffle=True, random_state=42)\n",
    "base = cross_val_score(pipe, X, y, cv=cv, scoring=\"accuracy\")\n",
    "print(f\"Baseline LogisticRegression CV: {base.mean():.4f} ± {base.std():.4f}\")"
   ]
  },
  {
   "cell_type": "code",
   "execution_count": null,
   "id": "913b0aac",
   "metadata": {},
   "outputs": [],
   "source": [
    "param_grid = [\n",
    "    {\"model\": [LogisticRegression(max_iter=1000)], \"model__C\": [0.1, 1.0, 3.0]},\n",
    "    {\"model\": [RandomForestClassifier(random_state=42)], \"model__n_estimators\": [200, 400], \"model__max_depth\": [None, 5, 8]},\n",
    "]\n",
    "\n",
    "grid = GridSearchCV(Pipeline(steps=[(\"pre\", pre), (\"model\", LogisticRegression(max_iter=1000))]),\n",
    "                    param_grid=param_grid, cv=cv, scoring=\"accuracy\", n_jobs=-1)\n",
    "grid.fit(X, y)\n",
    "print(\"Best CV accuracy:\", grid.best_score_)\n",
    "print(\"Best params:\", grid.best_params_)\n",
    "\n",
    "best_model = grid.best_estimator_\n",
    "best_model.fit(X, y)\n",
    "preds = best_model.predict(X)\n",
    "print(\"Training accuracy:\", accuracy_score(y, preds))\n",
    "print(\"Confusion matrix:\\n\", confusion_matrix(y, preds))\n",
    "print(\"Classification report:\\n\", classification_report(y, preds))"
   ]
  },
  {
   "cell_type": "code",
   "execution_count": null,
   "id": "24ffdac6",
   "metadata": {},
   "outputs": [],
   "source": [
    "test_pred = best_model.predict(test.drop(columns=[\"PassengerId\"]))\n",
    "submission = pd.DataFrame({\"PassengerId\": test[\"PassengerId\"], \"Survived\": test_pred.astype(int)})\n",
    "submission_path = MODELS_DIR / \"submission.csv\"\n",
    "model_path = MODELS_DIR / \"best_model.joblib\"\n",
    "submission.to_csv(submission_path, index=False)\n",
    "import joblib\n",
    "joblib.dump(best_model, model_path)\n",
    "submission.head(), submission_path, model_path"
   ]
  }
 ],
 "metadata": {},
 "nbformat": 4,
 "nbformat_minor": 5
}
